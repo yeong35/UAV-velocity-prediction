{
  "cells": [
    {
      "cell_type": "markdown",
      "source": [
        "**It is produced in the drive environment of Google colab, so you need to modify the file path and so on.**"
      ],
      "metadata": {
        "id": "HuW9W3HZC_Yq"
      }
    },
    {
      "cell_type": "code",
      "source": [
        "%matplotlib inline"
      ],
      "metadata": {
        "id": "uT1UN5ekcsWG"
      },
      "execution_count": null,
      "outputs": []
    },
    {
      "cell_type": "code",
      "source": [
        "!pip install torch torchvision"
      ],
      "metadata": {
        "colab": {
          "base_uri": "https://localhost:8080/"
        },
        "id": "G9kIht_Hct-F",
        "outputId": "b23658a4-4019-49c2-eb08-c03dcde30793"
      },
      "execution_count": null,
      "outputs": [
        {
          "output_type": "stream",
          "name": "stdout",
          "text": [
            "Looking in indexes: https://pypi.org/simple, https://us-python.pkg.dev/colab-wheels/public/simple/\n",
            "Requirement already satisfied: torch in /usr/local/lib/python3.7/dist-packages (1.12.0+cu113)\n",
            "Requirement already satisfied: torchvision in /usr/local/lib/python3.7/dist-packages (0.13.0+cu113)\n",
            "Requirement already satisfied: typing-extensions in /usr/local/lib/python3.7/dist-packages (from torch) (4.1.1)\n",
            "Requirement already satisfied: pillow!=8.3.*,>=5.3.0 in /usr/local/lib/python3.7/dist-packages (from torchvision) (7.1.2)\n",
            "Requirement already satisfied: requests in /usr/local/lib/python3.7/dist-packages (from torchvision) (2.23.0)\n",
            "Requirement already satisfied: numpy in /usr/local/lib/python3.7/dist-packages (from torchvision) (1.21.6)\n",
            "Requirement already satisfied: certifi>=2017.4.17 in /usr/local/lib/python3.7/dist-packages (from requests->torchvision) (2022.6.15)\n",
            "Requirement already satisfied: idna<3,>=2.5 in /usr/local/lib/python3.7/dist-packages (from requests->torchvision) (2.10)\n",
            "Requirement already satisfied: chardet<4,>=3.0.2 in /usr/local/lib/python3.7/dist-packages (from requests->torchvision) (3.0.4)\n",
            "Requirement already satisfied: urllib3!=1.25.0,!=1.25.1,<1.26,>=1.21.1 in /usr/local/lib/python3.7/dist-packages (from requests->torchvision) (1.24.3)\n"
          ]
        }
      ]
    },
    {
      "cell_type": "code",
      "execution_count": null,
      "metadata": {
        "id": "-dnmtUjb5507"
      },
      "outputs": [],
      "source": [
        "import numpy as np\n",
        "import pandas as pd\n",
        "import sklearn\n",
        "import torch\n",
        "import librosa\n",
        "import librosa.display\n",
        "import torchaudio\n",
        "import os\n",
        "import random\n",
        "import matplotlib.pyplot as plt"
      ]
    },
    {
      "cell_type": "code",
      "source": [
        "from google.colab import drive\n",
        "drive.mount('/content/drive')"
      ],
      "metadata": {
        "colab": {
          "base_uri": "https://localhost:8080/"
        },
        "id": "eQt3SaV-6CYV",
        "outputId": "3772e198-8cbd-4a6e-8761-880cc55f42f7"
      },
      "execution_count": null,
      "outputs": [
        {
          "output_type": "stream",
          "name": "stdout",
          "text": [
            "Drive already mounted at /content/drive; to attempt to forcibly remount, call drive.mount(\"/content/drive\", force_remount=True).\n"
          ]
        }
      ]
    },
    {
      "cell_type": "code",
      "execution_count": null,
      "metadata": {
        "colab": {
          "base_uri": "https://localhost:8080/",
          "height": 206
        },
        "id": "jQbvkdPa550-",
        "outputId": "ea363b89-f951-44eb-8a09-1ea56f38e22e"
      },
      "outputs": [
        {
          "output_type": "execute_result",
          "data": {
            "text/plain": [
              "   Unnamed: 0                      fname                 directory model  \\\n",
              "0           0  2022-05-14_06-18-26-0.wav  ./dataset/big_fast_0719/  X8SW   \n",
              "1           1  2022-05-14_06-18-26-1.wav  ./dataset/big_fast_0719/  X8SW   \n",
              "2           2  2022-05-14_06-18-26-2.wav  ./dataset/big_fast_0719/  X8SW   \n",
              "3           3  2022-05-14_06-18-26-3.wav  ./dataset/big_fast_0719/  X8SW   \n",
              "4           4  2022-05-14_06-18-26-4.wav  ./dataset/big_fast_0719/  X8SW   \n",
              "\n",
              "   label  \n",
              "0      1  \n",
              "1      1  \n",
              "2      1  \n",
              "3      1  \n",
              "4      1  "
            ],
            "text/html": [
              "\n",
              "  <div id=\"df-c6812cca-7b85-42aa-bb58-1b122651586d\">\n",
              "    <div class=\"colab-df-container\">\n",
              "      <div>\n",
              "<style scoped>\n",
              "    .dataframe tbody tr th:only-of-type {\n",
              "        vertical-align: middle;\n",
              "    }\n",
              "\n",
              "    .dataframe tbody tr th {\n",
              "        vertical-align: top;\n",
              "    }\n",
              "\n",
              "    .dataframe thead th {\n",
              "        text-align: right;\n",
              "    }\n",
              "</style>\n",
              "<table border=\"1\" class=\"dataframe\">\n",
              "  <thead>\n",
              "    <tr style=\"text-align: right;\">\n",
              "      <th></th>\n",
              "      <th>Unnamed: 0</th>\n",
              "      <th>fname</th>\n",
              "      <th>directory</th>\n",
              "      <th>model</th>\n",
              "      <th>label</th>\n",
              "    </tr>\n",
              "  </thead>\n",
              "  <tbody>\n",
              "    <tr>\n",
              "      <th>0</th>\n",
              "      <td>0</td>\n",
              "      <td>2022-05-14_06-18-26-0.wav</td>\n",
              "      <td>./dataset/big_fast_0719/</td>\n",
              "      <td>X8SW</td>\n",
              "      <td>1</td>\n",
              "    </tr>\n",
              "    <tr>\n",
              "      <th>1</th>\n",
              "      <td>1</td>\n",
              "      <td>2022-05-14_06-18-26-1.wav</td>\n",
              "      <td>./dataset/big_fast_0719/</td>\n",
              "      <td>X8SW</td>\n",
              "      <td>1</td>\n",
              "    </tr>\n",
              "    <tr>\n",
              "      <th>2</th>\n",
              "      <td>2</td>\n",
              "      <td>2022-05-14_06-18-26-2.wav</td>\n",
              "      <td>./dataset/big_fast_0719/</td>\n",
              "      <td>X8SW</td>\n",
              "      <td>1</td>\n",
              "    </tr>\n",
              "    <tr>\n",
              "      <th>3</th>\n",
              "      <td>3</td>\n",
              "      <td>2022-05-14_06-18-26-3.wav</td>\n",
              "      <td>./dataset/big_fast_0719/</td>\n",
              "      <td>X8SW</td>\n",
              "      <td>1</td>\n",
              "    </tr>\n",
              "    <tr>\n",
              "      <th>4</th>\n",
              "      <td>4</td>\n",
              "      <td>2022-05-14_06-18-26-4.wav</td>\n",
              "      <td>./dataset/big_fast_0719/</td>\n",
              "      <td>X8SW</td>\n",
              "      <td>1</td>\n",
              "    </tr>\n",
              "  </tbody>\n",
              "</table>\n",
              "</div>\n",
              "      <button class=\"colab-df-convert\" onclick=\"convertToInteractive('df-c6812cca-7b85-42aa-bb58-1b122651586d')\"\n",
              "              title=\"Convert this dataframe to an interactive table.\"\n",
              "              style=\"display:none;\">\n",
              "        \n",
              "  <svg xmlns=\"http://www.w3.org/2000/svg\" height=\"24px\"viewBox=\"0 0 24 24\"\n",
              "       width=\"24px\">\n",
              "    <path d=\"M0 0h24v24H0V0z\" fill=\"none\"/>\n",
              "    <path d=\"M18.56 5.44l.94 2.06.94-2.06 2.06-.94-2.06-.94-.94-2.06-.94 2.06-2.06.94zm-11 1L8.5 8.5l.94-2.06 2.06-.94-2.06-.94L8.5 2.5l-.94 2.06-2.06.94zm10 10l.94 2.06.94-2.06 2.06-.94-2.06-.94-.94-2.06-.94 2.06-2.06.94z\"/><path d=\"M17.41 7.96l-1.37-1.37c-.4-.4-.92-.59-1.43-.59-.52 0-1.04.2-1.43.59L10.3 9.45l-7.72 7.72c-.78.78-.78 2.05 0 2.83L4 21.41c.39.39.9.59 1.41.59.51 0 1.02-.2 1.41-.59l7.78-7.78 2.81-2.81c.8-.78.8-2.07 0-2.86zM5.41 20L4 18.59l7.72-7.72 1.47 1.35L5.41 20z\"/>\n",
              "  </svg>\n",
              "      </button>\n",
              "      \n",
              "  <style>\n",
              "    .colab-df-container {\n",
              "      display:flex;\n",
              "      flex-wrap:wrap;\n",
              "      gap: 12px;\n",
              "    }\n",
              "\n",
              "    .colab-df-convert {\n",
              "      background-color: #E8F0FE;\n",
              "      border: none;\n",
              "      border-radius: 50%;\n",
              "      cursor: pointer;\n",
              "      display: none;\n",
              "      fill: #1967D2;\n",
              "      height: 32px;\n",
              "      padding: 0 0 0 0;\n",
              "      width: 32px;\n",
              "    }\n",
              "\n",
              "    .colab-df-convert:hover {\n",
              "      background-color: #E2EBFA;\n",
              "      box-shadow: 0px 1px 2px rgba(60, 64, 67, 0.3), 0px 1px 3px 1px rgba(60, 64, 67, 0.15);\n",
              "      fill: #174EA6;\n",
              "    }\n",
              "\n",
              "    [theme=dark] .colab-df-convert {\n",
              "      background-color: #3B4455;\n",
              "      fill: #D2E3FC;\n",
              "    }\n",
              "\n",
              "    [theme=dark] .colab-df-convert:hover {\n",
              "      background-color: #434B5C;\n",
              "      box-shadow: 0px 1px 3px 1px rgba(0, 0, 0, 0.15);\n",
              "      filter: drop-shadow(0px 1px 2px rgba(0, 0, 0, 0.3));\n",
              "      fill: #FFFFFF;\n",
              "    }\n",
              "  </style>\n",
              "\n",
              "      <script>\n",
              "        const buttonEl =\n",
              "          document.querySelector('#df-c6812cca-7b85-42aa-bb58-1b122651586d button.colab-df-convert');\n",
              "        buttonEl.style.display =\n",
              "          google.colab.kernel.accessAllowed ? 'block' : 'none';\n",
              "\n",
              "        async function convertToInteractive(key) {\n",
              "          const element = document.querySelector('#df-c6812cca-7b85-42aa-bb58-1b122651586d');\n",
              "          const dataTable =\n",
              "            await google.colab.kernel.invokeFunction('convertToInteractive',\n",
              "                                                     [key], {});\n",
              "          if (!dataTable) return;\n",
              "\n",
              "          const docLinkHtml = 'Like what you see? Visit the ' +\n",
              "            '<a target=\"_blank\" href=https://colab.research.google.com/notebooks/data_table.ipynb>data table notebook</a>'\n",
              "            + ' to learn more about interactive tables.';\n",
              "          element.innerHTML = '';\n",
              "          dataTable['output_type'] = 'display_data';\n",
              "          await google.colab.output.renderOutput(dataTable, element);\n",
              "          const docLink = document.createElement('div');\n",
              "          docLink.innerHTML = docLinkHtml;\n",
              "          element.appendChild(docLink);\n",
              "        }\n",
              "      </script>\n",
              "    </div>\n",
              "  </div>\n",
              "  "
            ]
          },
          "metadata": {},
          "execution_count": 28
        }
      ],
      "source": [
        "# load metadata\n",
        "metadata = pd.read_csv(\"/content/drive/MyDrive/UStest/UAV-velocity-prediction-master/information.csv\")\n",
        "metadata.head()"
      ]
    },
    {
      "cell_type": "code",
      "execution_count": null,
      "metadata": {
        "id": "l_-b7h4j550_"
      },
      "outputs": [],
      "source": [
        "class AudioUtil():\n",
        "    def open(audio_file):\n",
        "        y, sr = librosa.load(audio_file)\n",
        "        return y, sr\n",
        "\n",
        "    # data augmentation function\n",
        "    def time_shift(aud, shift_limit):\n",
        "        y, sr = aud\n",
        "        _, sig_len = y.shape\n",
        "        shift_amt = int(random.random() * shift_limit * sig_len)\n",
        "        return y.roll(shift_amt), sr\n",
        "    \n",
        "    def MFCCs(y, sr):\n",
        "        mfccs = librosa.feature.mfcc(y=y, sr=sr)\n",
        "        mfccs_scaled = np.mean(mfccs.T, axis=0)\n",
        "        return mfccs_scaled"
      ]
    },
    {
      "cell_type": "code",
      "execution_count": null,
      "metadata": {
        "id": "-jJsviC4551A"
      },
      "outputs": [],
      "source": [
        "from torch.utils.data import DataLoader, Dataset, random_split\n",
        "import torchaudio"
      ]
    },
    {
      "cell_type": "code",
      "execution_count": null,
      "metadata": {
        "id": "CRMj2pw4551A"
      },
      "outputs": [],
      "source": [
        "class CustomDataset(Dataset):\n",
        "    def __init__(self, root, label):\n",
        "        # file root\n",
        "        self.root = root\n",
        "        # slow = 0, fast = 1\n",
        "        self.label = label\n",
        "\n",
        "        fs = [os.path.join(root, f) for f in os.listdir(self.root)]\n",
        "        # all file path\n",
        "        self.data_files = [f for f in fs if os.path.isfile(f)]\n",
        "        self.label = [label] * len(self.data_files)\n",
        "    \n",
        "    # __len__\n",
        "    def __len__(self):\n",
        "        return len(self.data_files)\n",
        "    \n",
        "    def __getitem__(self, idx):\n",
        "        y, sr = AudioUtil.open(self.data_files[idx])\n",
        "        mfcc = AudioUtil.MFCCs(y, sr)\n",
        "        return mfcc, torch.tensor(self.label[idx])"
      ]
    },
    {
      "cell_type": "code",
      "execution_count": null,
      "metadata": {
        "id": "SA3F3C0T551B"
      },
      "outputs": [],
      "source": [
        "# file path\n",
        "big_fast_path = \"/content/drive/MyDrive/UStest/UAV-velocity-prediction-master/dataset/big_fast\"\n",
        "big_slow_path = \"/content/drive/MyDrive/UStest/UAV-velocity-prediction-master/dataset/big_slow\""
      ]
    },
    {
      "cell_type": "code",
      "execution_count": null,
      "metadata": {
        "id": "8EilsHNS551C"
      },
      "outputs": [],
      "source": [
        "slow_dataset = CustomDataset(big_slow_path, label = 0)\n",
        "fast_dataset = CustomDataset(big_fast_path, label = 1)\n",
        "\n",
        "slow_train, slow_valid, slow_test = torch.utils.data.random_split(slow_dataset,\n",
        "[int(len(slow_dataset)*0.8), int(len(slow_dataset)*0.1), len(slow_dataset) - int(len(slow_dataset) * 0.8) - int(len(slow_dataset) * 0.1)],\n",
        "generator=torch.Generator().manual_seed(42))\n",
        "\n",
        "fast_train, fast_valid, fast_test = torch.utils.data.random_split(fast_dataset,\n",
        "[int(len(fast_dataset)*0.8), int(len(fast_dataset)*0.1), len(fast_dataset) - int(len(fast_dataset) * 0.8) - int(len(fast_dataset) * 0.1)],\n",
        "generator=torch.Generator().manual_seed(42))"
      ]
    },
    {
      "cell_type": "code",
      "execution_count": null,
      "metadata": {
        "id": "atBLDfGa551C"
      },
      "outputs": [],
      "source": [
        "train_dataset = torch.utils.data.ConcatDataset([slow_train, fast_train])\n",
        "val_dataset = torch.utils.data.ConcatDataset([slow_valid, fast_valid])\n",
        "test_dataset = torch.utils.data.ConcatDataset([slow_test, fast_test])"
      ]
    },
    {
      "cell_type": "code",
      "execution_count": null,
      "metadata": {
        "id": "CG_sipjo551D"
      },
      "outputs": [],
      "source": [
        "train_loader = DataLoader(train_dataset, batch_size=16, shuffle=True)\n",
        "val_loader = DataLoader(val_dataset, batch_size=16)\n",
        "val_loader = DataLoader(val_dataset, batch_size=16)"
      ]
    },
    {
      "cell_type": "code",
      "execution_count": null,
      "metadata": {
        "id": "qE9hXzkp551E"
      },
      "outputs": [],
      "source": [
        "import torch.nn as nn"
      ]
    },
    {
      "cell_type": "code",
      "execution_count": null,
      "metadata": {
        "id": "DP--jcp7551E"
      },
      "outputs": [],
      "source": [
        "import torch\n",
        "import torch.nn as nn\n",
        "\n",
        "# Neural Networks example\n",
        "class ClassifireNN(nn.Module):\n",
        "    def __init__(self, drop_out=0.0):\n",
        "        super(ClassifireNN, self).__init__()\n",
        "        self.fc1 = nn.Linear(20, 32)\n",
        "        self.fc2 = nn.Linear(32, 8)\n",
        "        self.fc3 = nn.Linear(8, 4)\n",
        "        self.fc4 = nn.Linear(4, 1)\n",
        "\n",
        "        \n",
        "        self.relu = nn.ReLU()\n",
        "\n",
        "        self.drop_out = nn.Dropout(p=drop_out)\n",
        "\n",
        "    def forward(self, x):\n",
        "        # x = x.view(-1, 20)  \n",
        "\n",
        "        x = self.relu(self.fc1(x))\n",
        "        x = self.drop_out(x)\n",
        "        x = self.relu(self.fc2(x))\n",
        "        x = self.drop_out(x)\n",
        "        x = self.relu(self.fc3(x))\n",
        "        x = self.drop_out(x)\n",
        "        x = self.relu(self.fc4(x))\n",
        "\n",
        "        x = self.drop_out(x)\n",
        "        x = self.fc6(x)\n",
        "\n",
        "        x = torch.sigmoid(x)\n",
        "\n",
        "        return x.view(-1)\n",
        "\n",
        "# CNN example\n",
        "class ClassifireCNN(nn.Module):\n",
        "    def __init__(self, drop_out=0.0):\n",
        "        super(ClassifireCNN, self).__init__()\n",
        "        self.cnn1 = nn.Conv1d(in_channels=20, out_channels=32, kernel_size=5, padding=2)\n",
        "        self.cnn2 = nn.Conv1d(in_channels=32, out_channels=8, kernel_size=5, padding=2)\n",
        "        self.cnn3 = nn.Conv1d(in_channels=8, out_channels= 1, kernel_size=5, padding=2)\n",
        "\n",
        "\n",
        "        # self.pool1 = nn.MaxPool1d(3)\n",
        "        # self.pool1 = nn.MaxPool1d(4)\n",
        "        # self.pool1 = nn.MaxPool1d(5)\n",
        "\n",
        "        # self.fc1 = nn.Linear(4 * 128, 512)\n",
        "        # self.fc2 = nn.Linear(512, 128)\n",
        "        # self.fc3 = nn.Linear(128, 64)\n",
        "        # self.fc4 = nn.Linear(64, 32)\n",
        "        # self.fc5 = nn.Linear(32, 1)\n",
        "        \n",
        "        self.relu = nn.ReLU()\n",
        "\n",
        "        self.drop_out = nn.Dropout(p=drop_out)\n",
        "\n",
        "    def forward(self, x):\n",
        "        # input : [16, 20], [batch, feature]\n",
        "        x = torch.reshape(x, (-1, 20, 1))   #[batch, feature, 1]\n",
        "        x = self.relu(self.cnn1(x))         # [batch, 8, 1]\n",
        "        x = self.relu(self.cnn2(x))         # [batch, 4, 1]\n",
        "        x = self.cnn3(x)                   # [batch, 1, 1]   \n",
        "\n",
        "        x = torch.sigmoid(x)\n",
        "\n",
        "        return x.view(-1)\n"
      ]
    },
    {
      "cell_type": "code",
      "execution_count": null,
      "metadata": {
        "id": "JRd_BTcW551F",
        "colab": {
          "base_uri": "https://localhost:8080/"
        },
        "outputId": "1d2aa2b8-6c10-4336-a5bb-127a97af642e"
      },
      "outputs": [
        {
          "output_type": "execute_result",
          "data": {
            "text/plain": [
              "device(type='cuda', index=0)"
            ]
          },
          "metadata": {},
          "execution_count": 38
        }
      ],
      "source": [
        "device = torch.device(f'cuda:0' if torch.cuda.is_available() else 'cpu')\n",
        "device"
      ]
    },
    {
      "cell_type": "code",
      "execution_count": null,
      "metadata": {
        "id": "jfwRg7hz551F"
      },
      "outputs": [],
      "source": [
        "LR = 0.045\n",
        "PATIENCE = 3\n",
        "FACTOR = 0.95\n",
        "DROP_OUT = 0.3\n",
        "EPOCHS = 100"
      ]
    },
    {
      "cell_type": "code",
      "execution_count": null,
      "metadata": {
        "id": "FIGLK-SL551G"
      },
      "outputs": [],
      "source": [
        "model = ClassifireCNN(drop_out=DROP_OUT).to(device)\n",
        "optimizer = torch.optim.Adam(model.parameters(), lr=LR)\n",
        "criterion = nn.BCELoss()"
      ]
    },
    {
      "cell_type": "code",
      "execution_count": null,
      "metadata": {
        "id": "-XoeydgK551G"
      },
      "outputs": [],
      "source": [
        "best_auc = 0\n",
        "best_epoch = -1\n",
        "best_pred = []\n",
        "\n",
        "prev_model = None"
      ]
    },
    {
      "cell_type": "code",
      "execution_count": null,
      "metadata": {
        "id": "8y_SQAJG551G"
      },
      "outputs": [],
      "source": [
        "from tqdm import tqdm\n",
        "from sklearn.metrics import accuracy_score\n",
        "from torch.utils.tensorboard import SummaryWriter"
      ]
    },
    {
      "cell_type": "code",
      "source": [
        "val_losses = []\n",
        "train_losses = []\n",
        "val_accuracy = []\n",
        "train_accuracy = []"
      ],
      "metadata": {
        "id": "NWZsDKoQmd8R"
      },
      "execution_count": null,
      "outputs": []
    },
    {
      "cell_type": "code",
      "execution_count": null,
      "metadata": {
        "id": "WKcyJ1J9551H",
        "colab": {
          "base_uri": "https://localhost:8080/"
        },
        "outputId": "381a191b-dbca-4cee-a97a-a4ecd216ea82"
      },
      "outputs": [
        {
          "output_type": "stream",
          "name": "stderr",
          "text": [
            "  5%|▌         | 5/100 [06:05<1:53:01, 71.39s/it]"
          ]
        },
        {
          "output_type": "stream",
          "name": "stdout",
          "text": [
            "best validation acc = 0.9863142991977348, in epoch 3\n",
            "loss =  tensor(8.4050, device='cuda:0')\n",
            "train_loss =  tensor(8.4050, device='cuda:0') val_loss tensor(1.1804, device='cuda:0')\n",
            "auc =  0.9858423784804153\n",
            "train_auc =  0.986737400530504 val_auc =  0.9786324786324786\n"
          ]
        },
        {
          "output_type": "stream",
          "name": "stderr",
          "text": [
            " 10%|█         | 10/100 [11:54<1:45:14, 70.17s/it]"
          ]
        },
        {
          "output_type": "stream",
          "name": "stdout",
          "text": [
            "best validation acc = 0.9924492685228882, in epoch 7\n",
            "loss =  tensor(13.7777, device='cuda:0')\n",
            "train_loss =  tensor(13.7777, device='cuda:0') val_loss tensor(0.1552, device='cuda:0')\n",
            "auc =  0.9806512505899009\n",
            "train_auc =  0.9782493368700266 val_auc =  1.0\n"
          ]
        },
        {
          "output_type": "stream",
          "name": "stderr",
          "text": [
            " 15%|█▌        | 15/100 [17:43<1:38:53, 69.81s/it]"
          ]
        },
        {
          "output_type": "stream",
          "name": "stdout",
          "text": [
            "best validation acc = 0.9924492685228882, in epoch 7\n",
            "loss =  tensor(13.5995, device='cuda:0')\n",
            "train_loss =  tensor(13.5995, device='cuda:0') val_loss tensor(2.6407, device='cuda:0')\n",
            "auc =  0.9839546956111374\n",
            "train_auc =  0.986737400530504 val_auc =  0.9615384615384616\n"
          ]
        },
        {
          "output_type": "stream",
          "name": "stderr",
          "text": [
            " 20%|██        | 20/100 [23:31<1:32:45, 69.57s/it]"
          ]
        },
        {
          "output_type": "stream",
          "name": "stdout",
          "text": [
            "best validation acc = 0.9924492685228882, in epoch 7\n",
            "loss =  tensor(10.8183, device='cuda:0')\n",
            "train_loss =  tensor(10.8183, device='cuda:0') val_loss tensor(0.8605, device='cuda:0')\n",
            "auc =  0.9877300613496932\n",
            "train_auc =  0.9872679045092838 val_auc =  0.9914529914529915\n"
          ]
        },
        {
          "output_type": "stream",
          "name": "stderr",
          "text": [
            " 25%|██▌       | 25/100 [29:18<1:26:43, 69.38s/it]"
          ]
        },
        {
          "output_type": "stream",
          "name": "stdout",
          "text": [
            "best validation acc = 0.9924492685228882, in epoch 7\n",
            "loss =  tensor(10.4903, device='cuda:0')\n",
            "train_loss =  tensor(10.4903, device='cuda:0') val_loss tensor(1.6472, device='cuda:0')\n",
            "auc =  0.9877300613496932\n",
            "train_auc =  0.9888594164456234 val_auc =  0.9786324786324786\n"
          ]
        },
        {
          "output_type": "stream",
          "name": "stderr",
          "text": [
            " 30%|███       | 30/100 [35:05<1:21:00, 69.44s/it]"
          ]
        },
        {
          "output_type": "stream",
          "name": "stdout",
          "text": [
            "best validation acc = 0.9924492685228882, in epoch 7\n",
            "loss =  tensor(6.0432, device='cuda:0')\n",
            "train_loss =  tensor(6.0432, device='cuda:0') val_loss tensor(0.5468, device='cuda:0')\n",
            "auc =  0.9910335063709297\n",
            "train_auc =  0.9909814323607427 val_auc =  0.9914529914529915\n"
          ]
        },
        {
          "output_type": "stream",
          "name": "stderr",
          "text": [
            " 35%|███▌      | 35/100 [40:53<1:15:25, 69.62s/it]"
          ]
        },
        {
          "output_type": "stream",
          "name": "stdout",
          "text": [
            "best validation acc = 0.9924492685228882, in epoch 7\n",
            "loss =  tensor(23.9352, device='cuda:0')\n",
            "train_loss =  tensor(23.9352, device='cuda:0') val_loss tensor(6.3388, device='cuda:0')\n",
            "auc =  0.9915054270882492\n",
            "train_auc =  0.9909814323607427 val_auc =  0.9957264957264957\n"
          ]
        },
        {
          "output_type": "stream",
          "name": "stderr",
          "text": [
            " 40%|████      | 40/100 [46:41<1:09:31, 69.52s/it]"
          ]
        },
        {
          "output_type": "stream",
          "name": "stdout",
          "text": [
            "best validation acc = 0.9924492685228882, in epoch 7\n",
            "loss =  tensor(20.6179, device='cuda:0')\n",
            "train_loss =  tensor(20.6179, device='cuda:0') val_loss tensor(8.0255, device='cuda:0')\n",
            "auc =  0.976875884851345\n",
            "train_auc =  0.9761273209549072 val_auc =  0.9829059829059829\n"
          ]
        },
        {
          "output_type": "stream",
          "name": "stderr",
          "text": [
            " 45%|████▌     | 45/100 [52:34<1:05:20, 71.28s/it]"
          ]
        },
        {
          "output_type": "stream",
          "name": "stdout",
          "text": [
            "best validation acc = 0.9924492685228882, in epoch 7\n",
            "loss =  tensor(55.6436, device='cuda:0')\n",
            "train_loss =  tensor(55.6436, device='cuda:0') val_loss tensor(2.2001, device='cuda:0')\n",
            "auc =  0.9646059462010382\n",
            "train_auc =  0.9649867374005305 val_auc =  0.9615384615384616\n"
          ]
        },
        {
          "output_type": "stream",
          "name": "stderr",
          "text": [
            " 50%|█████     | 50/100 [58:25<58:28, 70.18s/it]"
          ]
        },
        {
          "output_type": "stream",
          "name": "stdout",
          "text": [
            "best validation acc = 0.9952807928268051, in epoch 47\n",
            "loss =  tensor(50.6948, device='cuda:0')\n",
            "train_loss =  tensor(50.6948, device='cuda:0') val_loss tensor(1.4485, device='cuda:0')\n",
            "auc =  0.9801793298725814\n",
            "train_auc =  0.9803713527851459 val_auc =  0.9786324786324786\n"
          ]
        },
        {
          "output_type": "stream",
          "name": "stderr",
          "text": [
            " 55%|█████▌    | 55/100 [1:04:11<52:03, 69.40s/it]"
          ]
        },
        {
          "output_type": "stream",
          "name": "stdout",
          "text": [
            "best validation acc = 0.9966965549787635, in epoch 54\n",
            "loss =  tensor(22.0583, device='cuda:0')\n",
            "train_loss =  tensor(22.0583, device='cuda:0') val_loss tensor(1.6222, device='cuda:0')\n",
            "auc =  0.9966965549787635\n",
            "train_auc =  0.996816976127321 val_auc =  0.9957264957264957\n"
          ]
        },
        {
          "output_type": "stream",
          "name": "stderr",
          "text": [
            " 60%|██████    | 60/100 [1:09:55<45:50, 68.75s/it]"
          ]
        },
        {
          "output_type": "stream",
          "name": "stdout",
          "text": [
            "best validation acc = 0.9966965549787635, in epoch 54\n",
            "loss =  tensor(4.7845, device='cuda:0')\n",
            "train_loss =  tensor(4.7845, device='cuda:0') val_loss tensor(0.3837, device='cuda:0')\n",
            "auc =  0.9933931099575272\n",
            "train_auc =  0.993103448275862 val_auc =  0.9957264957264957\n"
          ]
        },
        {
          "output_type": "stream",
          "name": "stderr",
          "text": [
            " 65%|██████▌   | 65/100 [1:15:35<39:39, 67.98s/it]"
          ]
        },
        {
          "output_type": "stream",
          "name": "stdout",
          "text": [
            "best validation acc = 0.9966965549787635, in epoch 54\n",
            "loss =  tensor(4.8040, device='cuda:0')\n",
            "train_loss =  tensor(4.8040, device='cuda:0') val_loss tensor(0.3762, device='cuda:0')\n",
            "auc =  0.9933931099575272\n",
            "train_auc =  0.993103448275862 val_auc =  0.9957264957264957\n"
          ]
        },
        {
          "output_type": "stream",
          "name": "stderr",
          "text": [
            " 70%|███████   | 70/100 [1:21:14<33:59, 67.98s/it]"
          ]
        },
        {
          "output_type": "stream",
          "name": "stdout",
          "text": [
            "best validation acc = 0.9966965549787635, in epoch 54\n",
            "loss =  tensor(4.7914, device='cuda:0')\n",
            "train_loss =  tensor(4.7914, device='cuda:0') val_loss tensor(0.3798, device='cuda:0')\n",
            "auc =  0.9933931099575272\n",
            "train_auc =  0.993103448275862 val_auc =  0.9957264957264957\n"
          ]
        },
        {
          "output_type": "stream",
          "name": "stderr",
          "text": [
            " 75%|███████▌  | 75/100 [1:26:51<28:06, 67.45s/it]"
          ]
        },
        {
          "output_type": "stream",
          "name": "stdout",
          "text": [
            "best validation acc = 0.9966965549787635, in epoch 54\n",
            "loss =  tensor(4.8487, device='cuda:0')\n",
            "train_loss =  tensor(4.8487, device='cuda:0') val_loss tensor(0.3780, device='cuda:0')\n",
            "auc =  0.9933931099575272\n",
            "train_auc =  0.993103448275862 val_auc =  0.9957264957264957\n"
          ]
        },
        {
          "output_type": "stream",
          "name": "stderr",
          "text": [
            " 80%|████████  | 80/100 [1:32:29<22:29, 67.47s/it]"
          ]
        },
        {
          "output_type": "stream",
          "name": "stdout",
          "text": [
            "best validation acc = 0.9966965549787635, in epoch 54\n",
            "loss =  tensor(4.7841, device='cuda:0')\n",
            "train_loss =  tensor(4.7841, device='cuda:0') val_loss tensor(0.3803, device='cuda:0')\n",
            "auc =  0.9933931099575272\n",
            "train_auc =  0.993103448275862 val_auc =  0.9957264957264957\n"
          ]
        },
        {
          "output_type": "stream",
          "name": "stderr",
          "text": [
            " 85%|████████▌ | 85/100 [1:38:06<16:52, 67.52s/it]"
          ]
        },
        {
          "output_type": "stream",
          "name": "stdout",
          "text": [
            "best validation acc = 0.9966965549787635, in epoch 54\n",
            "loss =  tensor(4.8083, device='cuda:0')\n",
            "train_loss =  tensor(4.8083, device='cuda:0') val_loss tensor(0.3774, device='cuda:0')\n",
            "auc =  0.9933931099575272\n",
            "train_auc =  0.993103448275862 val_auc =  0.9957264957264957\n"
          ]
        },
        {
          "output_type": "stream",
          "name": "stderr",
          "text": [
            " 90%|█████████ | 90/100 [1:43:43<11:15, 67.55s/it]"
          ]
        },
        {
          "output_type": "stream",
          "name": "stdout",
          "text": [
            "best validation acc = 0.9966965549787635, in epoch 54\n",
            "loss =  tensor(4.8230, device='cuda:0')\n",
            "train_loss =  tensor(4.8230, device='cuda:0') val_loss tensor(0.3727, device='cuda:0')\n",
            "auc =  0.9933931099575272\n",
            "train_auc =  0.993103448275862 val_auc =  0.9957264957264957\n"
          ]
        },
        {
          "output_type": "stream",
          "name": "stderr",
          "text": [
            " 95%|█████████▌| 95/100 [1:49:20<05:37, 67.41s/it]"
          ]
        },
        {
          "output_type": "stream",
          "name": "stdout",
          "text": [
            "best validation acc = 0.9966965549787635, in epoch 54\n",
            "loss =  tensor(4.7854, device='cuda:0')\n",
            "train_loss =  tensor(4.7854, device='cuda:0') val_loss tensor(0.3803, device='cuda:0')\n",
            "auc =  0.9933931099575272\n",
            "train_auc =  0.993103448275862 val_auc =  0.9957264957264957\n"
          ]
        },
        {
          "output_type": "stream",
          "name": "stderr",
          "text": [
            "100%|██████████| 100/100 [1:54:57<00:00, 68.98s/it]"
          ]
        },
        {
          "output_type": "stream",
          "name": "stdout",
          "text": [
            "best validation acc = 0.9966965549787635, in epoch 54\n",
            "loss =  tensor(4.7821, device='cuda:0')\n",
            "train_loss =  tensor(4.7821, device='cuda:0') val_loss tensor(0.3772, device='cuda:0')\n",
            "auc =  0.9933931099575272\n",
            "train_auc =  0.993103448275862 val_auc =  0.9957264957264957\n",
            "best validation acc = 0.9966965549787635, in epoch 54\n"
          ]
        },
        {
          "output_type": "stream",
          "name": "stderr",
          "text": [
            "\n"
          ]
        }
      ],
      "source": [
        "for i in tqdm(range(EPOCHS)):\n",
        "\n",
        "    # Train\n",
        "    loss_sum = 0\n",
        "    train_loss_sum = 0\n",
        "    val_loss_sum = 0\n",
        "    true_labels = []\n",
        "    pred_labels = []\n",
        "    t_true_labels = []\n",
        "    t_pred_labels = []\n",
        "    v_true_labels = []\n",
        "    v_pred_labels = []\n",
        "    model.train()\n",
        "    if i == 0:\n",
        "        lr = LR\n",
        "    elif i % 2 == 0 and i != 0:\n",
        "        lr *= 0.94\n",
        "        optimizer = torch.optim.Adam(model.parameters(), lr=LR)\n",
        "        \n",
        "    for e_num, (x, y) in enumerate(train_loader):\n",
        "\n",
        "        x, y = x.type(torch.FloatTensor).to(device), y.type(torch.FloatTensor).to(device)\n",
        "        \n",
        "        model.zero_grad()\n",
        "        pred_y = model(x)\n",
        "\n",
        "        tloss = criterion(pred_y, y)\n",
        "        train_loss_sum += tloss.detach()\n",
        "        \n",
        "        optimizer.zero_grad()\n",
        "        tloss.backward()\n",
        "        optimizer.step()\n",
        "\n",
        "        true_labels.extend(y.cpu().numpy())\n",
        "        pred_labels.extend(np.around(pred_y.cpu().detach().numpy()))\n",
        "        t_true_labels.extend(y.cpu().numpy())\n",
        "        t_pred_labels.extend(np.around(pred_y.cpu().detach().numpy()))\n",
        "\n",
        "    train_auc = accuracy_score(t_true_labels, t_pred_labels)\n",
        "    train_accuracy.append(train_auc.item())\n",
        "    auc = accuracy_score(true_labels, pred_labels)\n",
        "    train_losses.append(train_loss_sum.item())\n",
        "\n",
        "    loss_sum = train_loss_sum\n",
        "    loss = tloss\n",
        "    # Valid\n",
        "    for e_num, (x, y) in enumerate(val_loader):\n",
        "        x, y = x.type(torch.FloatTensor).to(device), y.type(torch.FloatTensor).to(device)\n",
        "\n",
        "        pred_y = model(x)\n",
        "        vloss = criterion(pred_y, y)\n",
        "        loss = vloss\n",
        "\n",
        "        val_loss_sum += vloss.detach()\n",
        "        \n",
        "        loss_sum += loss.detach()\n",
        "        true_labels.extend(y.cpu().numpy())\n",
        "        pred_labels.extend(np.around(pred_y.cpu().detach().numpy()))\n",
        "        v_true_labels.extend(y.cpu().numpy())\n",
        "        v_pred_labels.extend(np.around(pred_y.cpu().detach().numpy()))\n",
        "        \n",
        "        \n",
        "    val_auc = accuracy_score(v_true_labels, v_pred_labels)\n",
        "    val_accuracy.append(val_auc.item())\n",
        "    auc = accuracy_score(true_labels, pred_labels)\n",
        "    val_losses.append(val_loss_sum.item())\n",
        "\n",
        "    \n",
        "    \n",
        "    # wirter.add_scalar(\"\")\n",
        "\n",
        "    if auc > best_auc:\n",
        "        best_pred = pred_labels\n",
        "        best_auc = auc\n",
        "        best_epoch = i\n",
        "\n",
        "        if prev_model is not None:\n",
        "            os.remove(prev_model)\n",
        "        prev_model = f'cnn_model_{best_auc}.h5'\n",
        "        torch.save(model.state_dict(), prev_model)\n",
        "\n",
        "    if i % 5 == 4:\n",
        "      print(f\"best validation acc = {best_auc}, in epoch {best_epoch}\")\n",
        "      print(\"loss = \", loss_sum)\n",
        "      print(\"train_loss = \", train_loss_sum, \"val_loss\", val_loss_sum)\n",
        "      print(\"auc = \", auc)\n",
        "      print(\"train_auc = \", train_auc, \"val_auc = \", val_auc)\n",
        "\n",
        "print(f\"best validation acc = {best_auc}, in epoch {best_epoch}\")\n"
      ]
    },
    {
      "cell_type": "code",
      "source": [
        "plt.figure(figsize=(10,5))\n",
        "plt.title(\"Training and Validation Loss\")\n",
        "plt.plot(val_losses,label=\"val\")\n",
        "plt.plot(train_losses,label=\"train\")\n",
        "plt.xlabel(\"EPOCHS\")\n",
        "plt.ylabel(\"Loss\")\n",
        "plt.legend()\n",
        "plt.show()"
      ],
      "metadata": {
        "id": "kSC7ewQaiYse",
        "colab": {
          "base_uri": "https://localhost:8080/",
          "height": 350
        },
        "outputId": "6ac99c3e-2e28-41fb-f7f7-3c14011e20f1"
      },
      "execution_count": null,
      "outputs": [
        {
          "output_type": "display_data",
          "data": {
            "text/plain": [
              "<Figure size 720x360 with 1 Axes>"
            ],
            "image/png": "[encoded data removed]"
          },
          "metadata": {
            "needs_background": "light"
          }
        }
      ]
    },
    {
      "cell_type": "code",
      "source": [
        "plt.figure(figsize=(10,5))\n",
        "plt.title(\"Training and Validation Accuracy\")\n",
        "plt.plot(val_accuracy,label=\"val\")\n",
        "plt.plot(train_accuracy,label=\"train\")\n",
        "plt.xlabel(\"EPOCHS\")\n",
        "plt.ylabel(\"Accuracy\")\n",
        "plt.legend()\n",
        "plt.show()\n"
      ],
      "metadata": {
        "id": "zk3IUh1gidCo",
        "colab": {
          "base_uri": "https://localhost:8080/",
          "height": 350
        },
        "outputId": "e0666990-ff34-461c-ba3e-483f5957b965"
      },
      "execution_count": null,
      "outputs": [
        {
          "output_type": "display_data",
          "data": {
            "text/plain": [
              "<Figure size 720x360 with 1 Axes>"
            ],
            "image/png": "[encoded data removed]"
          },
          "metadata": {
            "needs_background": "light"
          }
        }
      ]
    }
  ],
  "metadata": {
    "interpreter": {
      "hash": "a52fe0732f3203105bd2a5391fae9ba2ffc9b942c993ad37025ba64cbdbf2f56"
    },
    "kernelspec": {
      "display_name": "Python 3.9.7 ('base')",
      "language": "python",
      "name": "python3"
    },
    "language_info": {
      "codemirror_mode": {
        "name": "ipython",
        "version": 3
      },
      "file_extension": ".py",
      "mimetype": "text/x-python",
      "name": "python",
      "nbconvert_exporter": "python",
      "pygments_lexer": "ipython3",
      "version": "3.9.7"
    },
    "orig_nbformat": 4,
    "colab": {
      "name": "train_JY.ipynb",
      "provenance": [],
      "collapsed_sections": []
    },
    "accelerator": "GPU",
    "gpuClass": "standard"
  },
  "nbformat": 4,
  "nbformat_minor": 0
}