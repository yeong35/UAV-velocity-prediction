{
  "nbformat": 4,
  "nbformat_minor": 0,
  "metadata": {
    "colab": {
      "name": "testJY_07_25.ipynb",
      "provenance": [],
      "collapsed_sections": []
    },
    "kernelspec": {
      "name": "python3",
      "display_name": "Python 3"
    },
    "language_info": {
      "name": "python"
    },
    "gpuClass": "standard"
  },
  "cells": [
    {
      "cell_type": "code",
      "execution_count": 216,
      "metadata": {
        "id": "MrwOcRSOfklE"
      },
      "outputs": [],
      "source": [
        "%matplotlib inline"
      ]
    },
    {
      "cell_type": "code",
      "source": [
        "!pip install torch torchvision"
      ],
      "metadata": {
        "colab": {
          "base_uri": "https://localhost:8080/"
        },
        "id": "xFTn5WECgQWS",
        "outputId": "b0f54b73-881c-4e07-8b7e-8d54e62017f8"
      },
      "execution_count": 217,
      "outputs": [
        {
          "output_type": "stream",
          "name": "stdout",
          "text": [
            "Looking in indexes: https://pypi.org/simple, https://us-python.pkg.dev/colab-wheels/public/simple/\n",
            "Requirement already satisfied: torch in /usr/local/lib/python3.7/dist-packages (1.12.0+cu113)\n",
            "Requirement already satisfied: torchvision in /usr/local/lib/python3.7/dist-packages (0.13.0+cu113)\n",
            "Requirement already satisfied: typing-extensions in /usr/local/lib/python3.7/dist-packages (from torch) (4.1.1)\n",
            "Requirement already satisfied: pillow!=8.3.*,>=5.3.0 in /usr/local/lib/python3.7/dist-packages (from torchvision) (7.1.2)\n",
            "Requirement already satisfied: requests in /usr/local/lib/python3.7/dist-packages (from torchvision) (2.23.0)\n",
            "Requirement already satisfied: numpy in /usr/local/lib/python3.7/dist-packages (from torchvision) (1.21.6)\n",
            "Requirement already satisfied: chardet<4,>=3.0.2 in /usr/local/lib/python3.7/dist-packages (from requests->torchvision) (3.0.4)\n",
            "Requirement already satisfied: certifi>=2017.4.17 in /usr/local/lib/python3.7/dist-packages (from requests->torchvision) (2022.6.15)\n",
            "Requirement already satisfied: idna<3,>=2.5 in /usr/local/lib/python3.7/dist-packages (from requests->torchvision) (2.10)\n",
            "Requirement already satisfied: urllib3!=1.25.0,!=1.25.1,<1.26,>=1.21.1 in /usr/local/lib/python3.7/dist-packages (from requests->torchvision) (1.24.3)\n"
          ]
        }
      ]
    },
    {
      "cell_type": "code",
      "source": [
        "import numpy as np\n",
        "import pandas as pd\n",
        "import sklearn\n",
        "import torch\n",
        "import librosa\n",
        "import librosa.display"
      ],
      "metadata": {
        "id": "-zmIHxM1gQ_H"
      },
      "execution_count": 218,
      "outputs": []
    },
    {
      "cell_type": "code",
      "source": [
        "import torchaudio\n",
        "import os\n",
        "import random\n",
        "import matplotlib.pyplot as plt"
      ],
      "metadata": {
        "id": "33Uiq51XgT_W"
      },
      "execution_count": 219,
      "outputs": []
    },
    {
      "cell_type": "code",
      "source": [
        "from google.colab import drive\n",
        "drive.mount('/content/drive')"
      ],
      "metadata": {
        "colab": {
          "base_uri": "https://localhost:8080/"
        },
        "id": "eDhwW6avgWRK",
        "outputId": "39383630-d949-4d40-dcd5-0fde0ec7a0e3"
      },
      "execution_count": 220,
      "outputs": [
        {
          "output_type": "stream",
          "name": "stdout",
          "text": [
            "Drive already mounted at /content/drive; to attempt to forcibly remount, call drive.mount(\"/content/drive\", force_remount=True).\n"
          ]
        }
      ]
    },
    {
      "cell_type": "code",
      "source": [
        "# load metadata\n",
        "metadata = pd.read_csv(\"/content/drive/MyDrive/UStest/UAV-velocity-prediction-master/information.csv\")\n",
        "metadata.head()"
      ],
      "metadata": {
        "colab": {
          "base_uri": "https://localhost:8080/",
          "height": 206
        },
        "id": "OGdEttwFj0jJ",
        "outputId": "ca6e8d50-98ff-4d76-e608-6e090208f250"
      },
      "execution_count": 201,
      "outputs": [
        {
          "output_type": "execute_result",
          "data": {
            "text/plain": [
              "   Unnamed: 0                      fname                 directory model  \\\n",
              "0           0  2022-05-14_06-18-26-0.wav  ./dataset/big_fast_0719/  X8SW   \n",
              "1           1  2022-05-14_06-18-26-1.wav  ./dataset/big_fast_0719/  X8SW   \n",
              "2           2  2022-05-14_06-18-26-2.wav  ./dataset/big_fast_0719/  X8SW   \n",
              "3           3  2022-05-14_06-18-26-3.wav  ./dataset/big_fast_0719/  X8SW   \n",
              "4           4  2022-05-14_06-18-26-4.wav  ./dataset/big_fast_0719/  X8SW   \n",
              "\n",
              "   label  \n",
              "0      1  \n",
              "1      1  \n",
              "2      1  \n",
              "3      1  \n",
              "4      1  "
            ],
            "text/html": [
              "\n",
              "  <div id=\"df-cf6a6616-b6b4-4161-ad83-836aa2a5023f\">\n",
              "    <div class=\"colab-df-container\">\n",
              "      <div>\n",
              "<style scoped>\n",
              "    .dataframe tbody tr th:only-of-type {\n",
              "        vertical-align: middle;\n",
              "    }\n",
              "\n",
              "    .dataframe tbody tr th {\n",
              "        vertical-align: top;\n",
              "    }\n",
              "\n",
              "    .dataframe thead th {\n",
              "        text-align: right;\n",
              "    }\n",
              "</style>\n",
              "<table border=\"1\" class=\"dataframe\">\n",
              "  <thead>\n",
              "    <tr style=\"text-align: right;\">\n",
              "      <th></th>\n",
              "      <th>Unnamed: 0</th>\n",
              "      <th>fname</th>\n",
              "      <th>directory</th>\n",
              "      <th>model</th>\n",
              "      <th>label</th>\n",
              "    </tr>\n",
              "  </thead>\n",
              "  <tbody>\n",
              "    <tr>\n",
              "      <th>0</th>\n",
              "      <td>0</td>\n",
              "      <td>2022-05-14_06-18-26-0.wav</td>\n",
              "      <td>./dataset/big_fast_0719/</td>\n",
              "      <td>X8SW</td>\n",
              "      <td>1</td>\n",
              "    </tr>\n",
              "    <tr>\n",
              "      <th>1</th>\n",
              "      <td>1</td>\n",
              "      <td>2022-05-14_06-18-26-1.wav</td>\n",
              "      <td>./dataset/big_fast_0719/</td>\n",
              "      <td>X8SW</td>\n",
              "      <td>1</td>\n",
              "    </tr>\n",
              "    <tr>\n",
              "      <th>2</th>\n",
              "      <td>2</td>\n",
              "      <td>2022-05-14_06-18-26-2.wav</td>\n",
              "      <td>./dataset/big_fast_0719/</td>\n",
              "      <td>X8SW</td>\n",
              "      <td>1</td>\n",
              "    </tr>\n",
              "    <tr>\n",
              "      <th>3</th>\n",
              "      <td>3</td>\n",
              "      <td>2022-05-14_06-18-26-3.wav</td>\n",
              "      <td>./dataset/big_fast_0719/</td>\n",
              "      <td>X8SW</td>\n",
              "      <td>1</td>\n",
              "    </tr>\n",
              "    <tr>\n",
              "      <th>4</th>\n",
              "      <td>4</td>\n",
              "      <td>2022-05-14_06-18-26-4.wav</td>\n",
              "      <td>./dataset/big_fast_0719/</td>\n",
              "      <td>X8SW</td>\n",
              "      <td>1</td>\n",
              "    </tr>\n",
              "  </tbody>\n",
              "</table>\n",
              "</div>\n",
              "      <button class=\"colab-df-convert\" onclick=\"convertToInteractive('df-cf6a6616-b6b4-4161-ad83-836aa2a5023f')\"\n",
              "              title=\"Convert this dataframe to an interactive table.\"\n",
              "              style=\"display:none;\">\n",
              "        \n",
              "  <svg xmlns=\"http://www.w3.org/2000/svg\" height=\"24px\"viewBox=\"0 0 24 24\"\n",
              "       width=\"24px\">\n",
              "    <path d=\"M0 0h24v24H0V0z\" fill=\"none\"/>\n",
              "    <path d=\"M18.56 5.44l.94 2.06.94-2.06 2.06-.94-2.06-.94-.94-2.06-.94 2.06-2.06.94zm-11 1L8.5 8.5l.94-2.06 2.06-.94-2.06-.94L8.5 2.5l-.94 2.06-2.06.94zm10 10l.94 2.06.94-2.06 2.06-.94-2.06-.94-.94-2.06-.94 2.06-2.06.94z\"/><path d=\"M17.41 7.96l-1.37-1.37c-.4-.4-.92-.59-1.43-.59-.52 0-1.04.2-1.43.59L10.3 9.45l-7.72 7.72c-.78.78-.78 2.05 0 2.83L4 21.41c.39.39.9.59 1.41.59.51 0 1.02-.2 1.41-.59l7.78-7.78 2.81-2.81c.8-.78.8-2.07 0-2.86zM5.41 20L4 18.59l7.72-7.72 1.47 1.35L5.41 20z\"/>\n",
              "  </svg>\n",
              "      </button>\n",
              "      \n",
              "  <style>\n",
              "    .colab-df-container {\n",
              "      display:flex;\n",
              "      flex-wrap:wrap;\n",
              "      gap: 12px;\n",
              "    }\n",
              "\n",
              "    .colab-df-convert {\n",
              "      background-color: #E8F0FE;\n",
              "      border: none;\n",
              "      border-radius: 50%;\n",
              "      cursor: pointer;\n",
              "      display: none;\n",
              "      fill: #1967D2;\n",
              "      height: 32px;\n",
              "      padding: 0 0 0 0;\n",
              "      width: 32px;\n",
              "    }\n",
              "\n",
              "    .colab-df-convert:hover {\n",
              "      background-color: #E2EBFA;\n",
              "      box-shadow: 0px 1px 2px rgba(60, 64, 67, 0.3), 0px 1px 3px 1px rgba(60, 64, 67, 0.15);\n",
              "      fill: #174EA6;\n",
              "    }\n",
              "\n",
              "    [theme=dark] .colab-df-convert {\n",
              "      background-color: #3B4455;\n",
              "      fill: #D2E3FC;\n",
              "    }\n",
              "\n",
              "    [theme=dark] .colab-df-convert:hover {\n",
              "      background-color: #434B5C;\n",
              "      box-shadow: 0px 1px 3px 1px rgba(0, 0, 0, 0.15);\n",
              "      filter: drop-shadow(0px 1px 2px rgba(0, 0, 0, 0.3));\n",
              "      fill: #FFFFFF;\n",
              "    }\n",
              "  </style>\n",
              "\n",
              "      <script>\n",
              "        const buttonEl =\n",
              "          document.querySelector('#df-cf6a6616-b6b4-4161-ad83-836aa2a5023f button.colab-df-convert');\n",
              "        buttonEl.style.display =\n",
              "          google.colab.kernel.accessAllowed ? 'block' : 'none';\n",
              "\n",
              "        async function convertToInteractive(key) {\n",
              "          const element = document.querySelector('#df-cf6a6616-b6b4-4161-ad83-836aa2a5023f');\n",
              "          const dataTable =\n",
              "            await google.colab.kernel.invokeFunction('convertToInteractive',\n",
              "                                                     [key], {});\n",
              "          if (!dataTable) return;\n",
              "\n",
              "          const docLinkHtml = 'Like what you see? Visit the ' +\n",
              "            '<a target=\"_blank\" href=https://colab.research.google.com/notebooks/data_table.ipynb>data table notebook</a>'\n",
              "            + ' to learn more about interactive tables.';\n",
              "          element.innerHTML = '';\n",
              "          dataTable['output_type'] = 'display_data';\n",
              "          await google.colab.output.renderOutput(dataTable, element);\n",
              "          const docLink = document.createElement('div');\n",
              "          docLink.innerHTML = docLinkHtml;\n",
              "          element.appendChild(docLink);\n",
              "        }\n",
              "      </script>\n",
              "    </div>\n",
              "  </div>\n",
              "  "
            ]
          },
          "metadata": {},
          "execution_count": 201
        }
      ]
    },
    {
      "cell_type": "code",
      "source": [
        "class AudioUtil():\n",
        "    def open(audio_file):\n",
        "        y, sr = librosa.load(audio_file)\n",
        "        return y, sr\n",
        "\n",
        "    # data augmentation function\n",
        "    def time_shift(aud, shift_limit):\n",
        "        y, sr = aud\n",
        "        _, sig_len = y.shape\n",
        "        shift_amt = int(random.random() * shift_limit * sig_len)\n",
        "        return y.roll(shift_amt), sr\n",
        "    \n",
        "    def MFCCs(y, sr):\n",
        "        mfccs = librosa.feature.mfcc(y=y, sr=sr)\n",
        "        mfccs_scaled = np.mean(mfccs.T, axis=0)\n",
        "        return mfccs_scaled"
      ],
      "metadata": {
        "id": "smwivehRj6D-"
      },
      "execution_count": 221,
      "outputs": []
    },
    {
      "cell_type": "code",
      "source": [
        "from torch.utils.data import DataLoader, Dataset, random_split\n",
        "import torchaudio"
      ],
      "metadata": {
        "id": "GpK1RXZAj-aB"
      },
      "execution_count": 222,
      "outputs": []
    },
    {
      "cell_type": "code",
      "source": [
        "class CustomDataset(Dataset):\n",
        "    def __init__(self, root, label):\n",
        "        # file root\n",
        "        self.root = root\n",
        "        # slow = 0, fast = 1\n",
        "        self.label = label\n",
        "\n",
        "        fs = [os.path.join(root, f) for f in os.listdir(self.root)]\n",
        "        # all file path\n",
        "        self.data_files = [f for f in fs if os.path.isfile(f)]\n",
        "        self.label = [label] * len(self.data_files)\n",
        "    \n",
        "    # __len__\n",
        "    def __len__(self):\n",
        "        return len(self.data_files)\n",
        "    \n",
        "    def __getitem__(self, idx):\n",
        "        y, sr = AudioUtil.open(self.data_files[idx])\n",
        "        mfcc = AudioUtil.MFCCs(y, sr)\n",
        "        return mfcc, torch.tensor(self.label[idx])"
      ],
      "metadata": {
        "id": "UyBeAndlj-9e"
      },
      "execution_count": 223,
      "outputs": []
    },
    {
      "cell_type": "code",
      "source": [
        "# file path\n",
        "big_fast_path = \"/content/drive/MyDrive/UStest/UAV-velocity-prediction-master/dataset/big_fast\"\n",
        "big_slow_path = \"/content/drive/MyDrive/UStest/UAV-velocity-prediction-master/dataset/big_slow\""
      ],
      "metadata": {
        "id": "RlHK5JFukF_G"
      },
      "execution_count": 224,
      "outputs": []
    },
    {
      "cell_type": "code",
      "source": [
        "slow_dataset = CustomDataset(big_slow_path, label = 0)\n",
        "fast_dataset = CustomDataset(big_fast_path, label = 1)\n",
        "\n",
        "slow_train, slow_valid, slow_test = torch.utils.data.random_split(slow_dataset,\n",
        "[int(len(slow_dataset)*0.8), int(len(slow_dataset)*0.1), len(slow_dataset) - int(len(slow_dataset) * 0.8) - int(len(slow_dataset) * 0.1)],\n",
        "generator=torch.Generator().manual_seed(42))\n",
        "\n",
        "fast_train, fast_valid, fast_test = torch.utils.data.random_split(fast_dataset,\n",
        "[int(len(fast_dataset)*0.8), int(len(fast_dataset)*0.1), len(fast_dataset) - int(len(fast_dataset) * 0.8) - int(len(fast_dataset) * 0.1)],\n",
        "generator=torch.Generator().manual_seed(42))"
      ],
      "metadata": {
        "id": "o75k5jBQkGlw"
      },
      "execution_count": 206,
      "outputs": []
    },
    {
      "cell_type": "code",
      "source": [
        "train_dataset = torch.utils.data.ConcatDataset([slow_train, fast_train])\n",
        "val_dataset = torch.utils.data.ConcatDataset([slow_valid, fast_valid])\n",
        "test_dataset = torch.utils.data.ConcatDataset([slow_test, fast_test])"
      ],
      "metadata": {
        "id": "m9N4vOUXkIkb"
      },
      "execution_count": 207,
      "outputs": []
    },
    {
      "cell_type": "code",
      "source": [
        "train_loader = DataLoader(train_dataset, batch_size=16, shuffle=True)\n",
        "val_loader = DataLoader(val_dataset, batch_size=16)\n",
        "val_loader = DataLoader(val_dataset, batch_size=16)"
      ],
      "metadata": {
        "id": "KO_dZmPLkKvZ"
      },
      "execution_count": 208,
      "outputs": []
    },
    {
      "cell_type": "code",
      "source": [
        "import torch\n",
        "import torch.nn as nn\n",
        "from tqdm import tqdm\n",
        "from sklearn.metrics import accuracy_score"
      ],
      "metadata": {
        "id": "6BbnyhtVkONb"
      },
      "execution_count": 209,
      "outputs": []
    },
    {
      "cell_type": "code",
      "source": [
        "#JY-CNN Structure with reference to Xception Structure\n",
        "class ClassifireCNN(nn.Module):\n",
        "    def __init__(self, drop_out=0.0):\n",
        "        super(ClassifireCNN, self).__init__()\n",
        "        self.entry_flow = nn.Sequential(\n",
        "            nn.Conv1d(in_channels=20, out_channels=32, kernel_size = 3, stride=2, padding=1, bias=False),\n",
        "\n",
        "            nn.ReLU(True),\n",
        "            depthwise_separable_conv(32, 32, 3, 1),\n",
        "\n",
        "            nn.ReLU(True),\n",
        "            depthwise_separable_conv(32, 8, 3, 1),\n",
        "            nn.ReLU(True),\n",
        "            depthwise_separable_conv(8, 1, 3, 1)\n",
        "        )\n",
        "        self.exit_flow_residual = nn.Conv1d(20, 1, kernel_size=1, stride=2, padding=0)\n",
        "        self.cnn1 = depthwise_separable_conv(nin=20, nout=32, kernel_size=5, padding=2)\n",
        "        self.cnn2 = depthwise_separable_conv(nin=32, nout=8, kernel_size=5, padding=2)\n",
        "        self.cnn3 = depthwise_separable_conv(nin=8, nout= 1, kernel_size=5, padding=2)\n",
        "        self.relu = nn.ReLU()\n",
        "\n",
        "        self.drop_out = nn.Dropout(p=drop_out)\n",
        "\n",
        "    def forward(self, x):\n",
        "        # input : [16, 20], [batch, feature]\n",
        "        x = torch.reshape(x, (-1, 20, 1))   #[batch, feature, 1]\n",
        "        x1 = self.entry_flow(x) + self.exit_flow_residual(x)\n",
        "        x = torch.sigmoid(x1)\n",
        "\n",
        "        return x.view(-1)"
      ],
      "metadata": {
        "id": "GVDq0QBckRDL"
      },
      "execution_count": 210,
      "outputs": []
    },
    {
      "cell_type": "code",
      "source": [
        "#JY-Depthwise Separable Convolution (CNN Lightweight)\n",
        "class depthwise_separable_conv(nn.Module):\n",
        "    def __init__(self, nin, nout, kernel_size, padding, bias=False):\n",
        "        super(depthwise_separable_conv, self).__init__()\n",
        "        self.depthwise = nn.Conv1d(nin, nin, kernel_size=kernel_size, padding=padding, groups=nin, bias=bias)\n",
        "        self.pointwise = nn.Conv1d(nin, nout, kernel_size=1, bias=bias)\n",
        "\n",
        "    def forward(self, x):\n",
        "        out = self.depthwise(x)\n",
        "        out = self.pointwise(out)\n",
        "        return out"
      ],
      "metadata": {
        "id": "lrN7hrSxkaso"
      },
      "execution_count": 211,
      "outputs": []
    },
    {
      "cell_type": "code",
      "source": [
        "device = torch.device(f'cuda:0' if torch.cuda.is_available() else 'cpu')\n",
        "device"
      ],
      "metadata": {
        "colab": {
          "base_uri": "https://localhost:8080/"
        },
        "id": "InfM5AyUkgZm",
        "outputId": "e9a5a88b-1347-4ad6-9642-192d9c452064"
      },
      "execution_count": 212,
      "outputs": [
        {
          "output_type": "execute_result",
          "data": {
            "text/plain": [
              "device(type='cpu')"
            ]
          },
          "metadata": {},
          "execution_count": 212
        }
      ]
    },
    {
      "cell_type": "code",
      "source": [
        "LR = 0.045\n",
        "PATIENCE = 3\n",
        "FACTOR = 0.95\n",
        "DROP_OUT = 0.3\n",
        "EPOCHS = 100"
      ],
      "metadata": {
        "id": "3zUTa_oVkoo2"
      },
      "execution_count": 213,
      "outputs": []
    },
    {
      "cell_type": "code",
      "source": [
        "model = ClassifireCNN(drop_out=DROP_OUT).to(device)\n",
        "optimizer = torch.optim.Adam(model.parameters(), lr=LR)\n",
        "criterion = nn.BCELoss()"
      ],
      "metadata": {
        "id": "kW-uVQ7akrS1"
      },
      "execution_count": 214,
      "outputs": []
    },
    {
      "cell_type": "code",
      "source": [
        "best_auc = 0\n",
        "best_epoch = -1\n",
        "best_pred = []\n",
        "\n",
        "prev_model = None\n",
        "\n",
        "val_losses = []\n",
        "train_losses = []\n",
        "val_accuracy = []\n",
        "train_accuracy = []"
      ],
      "metadata": {
        "id": "mBaoLkzkkv_9"
      },
      "execution_count": 215,
      "outputs": []
    },
    {
      "cell_type": "code",
      "source": [
        "for i in tqdm(range(EPOCHS)):\n",
        "\n",
        "    # Train\n",
        "    loss_sum = 0\n",
        "    train_loss_sum = 0\n",
        "    val_loss_sum = 0\n",
        "    true_labels = []\n",
        "    pred_labels = []\n",
        "    t_true_labels = []\n",
        "    t_pred_labels = []\n",
        "    v_true_labels = []\n",
        "    v_pred_labels = []\n",
        "    model.train()\n",
        "    if i == 0:\n",
        "        lr = LR\n",
        "    elif i % 2 == 0 and i != 0:\n",
        "        lr *= 0.94\n",
        "        optimizer = torch.optim.Adam(model.parameters(), lr=LR)\n",
        "        \n",
        "    for e_num, (x, y) in enumerate(train_loader):\n",
        "\n",
        "        x, y = x.type(torch.FloatTensor).to(device), y.type(torch.FloatTensor).to(device)\n",
        "        \n",
        "        model.zero_grad()\n",
        "        pred_y = model(x)\n",
        "\n",
        "        tloss = criterion(pred_y, y)\n",
        "        train_loss_sum += tloss.detach()\n",
        "        \n",
        "        optimizer.zero_grad()\n",
        "        tloss.backward()\n",
        "        optimizer.step()\n",
        "\n",
        "        true_labels.extend(y.cpu().numpy())\n",
        "        pred_labels.extend(np.around(pred_y.cpu().detach().numpy()))\n",
        "        t_true_labels.extend(y.cpu().numpy())\n",
        "        t_pred_labels.extend(np.around(pred_y.cpu().detach().numpy()))\n",
        "\n",
        "    train_auc = accuracy_score(t_true_labels, t_pred_labels)\n",
        "    train_accuracy.append(train_auc.item())\n",
        "    auc = accuracy_score(true_labels, pred_labels)\n",
        "    train_losses.append(train_loss_sum.item())\n",
        "\n",
        "    loss_sum = train_loss_sum\n",
        "    loss = tloss\n",
        "    # Valid\n",
        "    for e_num, (x, y) in enumerate(val_loader):\n",
        "        x, y = x.type(torch.FloatTensor).to(device), y.type(torch.FloatTensor).to(device)\n",
        "\n",
        "        pred_y = model(x)\n",
        "        vloss = criterion(pred_y, y)\n",
        "        loss = vloss\n",
        "\n",
        "        val_loss_sum += vloss.detach()\n",
        "        \n",
        "        loss_sum += loss.detach()\n",
        "        true_labels.extend(y.cpu().numpy())\n",
        "        pred_labels.extend(np.around(pred_y.cpu().detach().numpy()))\n",
        "        v_true_labels.extend(y.cpu().numpy())\n",
        "        v_pred_labels.extend(np.around(pred_y.cpu().detach().numpy()))\n",
        "        \n",
        "        \n",
        "    val_auc = accuracy_score(v_true_labels, v_pred_labels)\n",
        "    val_accuracy.append(val_auc.item())\n",
        "    auc = accuracy_score(true_labels, pred_labels)\n",
        "    val_losses.append(val_loss_sum.item())\n",
        "\n",
        "    \n",
        "    \n",
        "    # wirter.add_scalar(\"\")\n",
        "\n",
        "    if auc > best_auc:\n",
        "        best_pred = pred_labels\n",
        "        best_auc = auc\n",
        "        best_epoch = i\n",
        "\n",
        "        if prev_model is not None:\n",
        "            os.remove(prev_model)\n",
        "        prev_model = f'cnn_model_{best_auc}.h5'\n",
        "        torch.save(model.state_dict(), prev_model)\n",
        "\n",
        "    if i % 5 == 4:\n",
        "      print(f\"best validation acc = {best_auc}, in epoch {best_epoch}\")\n",
        "      print(\"loss = \", loss_sum)\n",
        "      print(\"train_loss = \", train_loss_sum, \"val_loss\", val_loss_sum)\n",
        "      print(\"auc = \", auc)\n",
        "      print(\"train_auc = \", train_auc, \"val_auc = \", val_auc)\n",
        "\n",
        "print(f\"best validation acc = {best_auc}, in epoch {best_epoch}\")"
      ],
      "metadata": {
        "colab": {
          "base_uri": "https://localhost:8080/"
        },
        "id": "NeFDj7NWky5W",
        "outputId": "60dd5bd4-ae79-4f53-de49-c34668564b1d"
      },
      "execution_count": 225,
      "outputs": [
        {
          "output_type": "stream",
          "name": "stderr",
          "text": [
            "  5%|▌         | 5/100 [07:26<2:18:14, 87.32s/it]"
          ]
        },
        {
          "output_type": "stream",
          "name": "stdout",
          "text": [
            "best validation acc = 0.9933931099575272, in epoch 1\n",
            "loss =  tensor(101.1065)\n",
            "train_loss =  tensor(101.1065) val_loss tensor(0.6683)\n",
            "auc =  0.9797074091552619\n",
            "train_auc =  0.9782493368700266 val_auc =  0.9914529914529915\n"
          ]
        },
        {
          "output_type": "stream",
          "name": "stderr",
          "text": [
            " 10%|█         | 10/100 [14:33<2:08:27, 85.63s/it]"
          ]
        },
        {
          "output_type": "stream",
          "name": "stdout",
          "text": [
            "best validation acc = 0.9933931099575272, in epoch 1\n",
            "loss =  tensor(11.8198)\n",
            "train_loss =  tensor(11.8198) val_loss tensor(0.6087)\n",
            "auc =  0.9919773478055687\n",
            "train_auc =  0.9915119363395225 val_auc =  0.9957264957264957\n"
          ]
        },
        {
          "output_type": "stream",
          "name": "stderr",
          "text": [
            " 15%|█▌        | 15/100 [21:39<2:00:52, 85.33s/it]"
          ]
        },
        {
          "output_type": "stream",
          "name": "stdout",
          "text": [
            "best validation acc = 0.9976403964134025, in epoch 14\n",
            "loss =  tensor(1.5125)\n",
            "train_loss =  tensor(1.5125) val_loss tensor(0.0032)\n",
            "auc =  0.9976403964134025\n",
            "train_auc =  0.9973474801061007 val_auc =  1.0\n"
          ]
        },
        {
          "output_type": "stream",
          "name": "stderr",
          "text": [
            " 20%|██        | 20/100 [28:45<1:53:18, 84.98s/it]"
          ]
        },
        {
          "output_type": "stream",
          "name": "stdout",
          "text": [
            "best validation acc = 0.9976403964134025, in epoch 14\n",
            "loss =  tensor(3.6077)\n",
            "train_loss =  tensor(3.6077) val_loss tensor(0.5073)\n",
            "auc =  0.9966965549787635\n",
            "train_auc =  0.996816976127321 val_auc =  0.9957264957264957\n"
          ]
        },
        {
          "output_type": "stream",
          "name": "stderr",
          "text": [
            " 25%|██▌       | 25/100 [35:55<1:47:01, 85.62s/it]"
          ]
        },
        {
          "output_type": "stream",
          "name": "stdout",
          "text": [
            "best validation acc = 0.9976403964134025, in epoch 14\n",
            "loss =  tensor(9.3568)\n",
            "train_loss =  tensor(9.3568) val_loss tensor(0.0017)\n",
            "auc =  0.9952807928268051\n",
            "train_auc =  0.9946949602122016 val_auc =  1.0\n"
          ]
        },
        {
          "output_type": "stream",
          "name": "stderr",
          "text": [
            " 30%|███       | 30/100 [43:10<1:41:20, 86.86s/it]"
          ]
        },
        {
          "output_type": "stream",
          "name": "stdout",
          "text": [
            "best validation acc = 0.9976403964134025, in epoch 14\n",
            "loss =  tensor(40.4527)\n",
            "train_loss =  tensor(40.4527) val_loss tensor(1.8162e-05)\n",
            "auc =  0.9924492685228882\n",
            "train_auc =  0.9915119363395225 val_auc =  1.0\n"
          ]
        },
        {
          "output_type": "stream",
          "name": "stderr",
          "text": [
            " 35%|███▌      | 35/100 [50:27<1:34:42, 87.43s/it]"
          ]
        },
        {
          "output_type": "stream",
          "name": "stdout",
          "text": [
            "best validation acc = 0.998112317130722, in epoch 33\n",
            "loss =  tensor(9.2936)\n",
            "train_loss =  tensor(9.2936) val_loss tensor(0.0489)\n",
            "auc =  0.9943369513921662\n",
            "train_auc =  0.9941644562334218 val_auc =  0.9957264957264957\n"
          ]
        },
        {
          "output_type": "stream",
          "name": "stderr",
          "text": [
            " 40%|████      | 40/100 [57:42<1:27:00, 87.01s/it]"
          ]
        },
        {
          "output_type": "stream",
          "name": "stdout",
          "text": [
            "best validation acc = 0.998112317130722, in epoch 33\n",
            "loss =  tensor(16.0549)\n",
            "train_loss =  tensor(16.0549) val_loss tensor(0.5436)\n",
            "auc =  0.9952807928268051\n",
            "train_auc =  0.9952254641909815 val_auc =  0.9957264957264957\n"
          ]
        },
        {
          "output_type": "stream",
          "name": "stderr",
          "text": [
            " 45%|████▌     | 45/100 [1:05:00<1:20:09, 87.45s/it]"
          ]
        },
        {
          "output_type": "stream",
          "name": "stdout",
          "text": [
            "best validation acc = 0.998112317130722, in epoch 33\n",
            "loss =  tensor(3.5077)\n",
            "train_loss =  tensor(3.5077) val_loss tensor(6.7801e-07)\n",
            "auc =  0.996224634261444\n",
            "train_auc =  0.9957559681697613 val_auc =  1.0\n"
          ]
        },
        {
          "output_type": "stream",
          "name": "stderr",
          "text": [
            " 50%|█████     | 50/100 [1:12:10<1:11:54, 86.29s/it]"
          ]
        },
        {
          "output_type": "stream",
          "name": "stdout",
          "text": [
            "best validation acc = 0.9985842378480415, in epoch 46\n",
            "loss =  tensor(20.1897)\n",
            "train_loss =  tensor(20.1897) val_loss tensor(1.0766e-06)\n",
            "auc =  0.9929211892402077\n",
            "train_auc =  0.9920424403183024 val_auc =  1.0\n"
          ]
        },
        {
          "output_type": "stream",
          "name": "stderr",
          "text": [
            " 55%|█████▌    | 55/100 [1:19:21<1:04:40, 86.24s/it]"
          ]
        },
        {
          "output_type": "stream",
          "name": "stdout",
          "text": [
            "best validation acc = 0.9985842378480415, in epoch 46\n",
            "loss =  tensor(20.8027)\n",
            "train_loss =  tensor(20.8027) val_loss tensor(1.4156e-07)\n",
            "auc =  0.996224634261444\n",
            "train_auc =  0.9957559681697613 val_auc =  1.0\n"
          ]
        },
        {
          "output_type": "stream",
          "name": "stderr",
          "text": [
            " 60%|██████    | 60/100 [1:26:30<57:13, 85.83s/it]"
          ]
        },
        {
          "output_type": "stream",
          "name": "stdout",
          "text": [
            "best validation acc = 0.9985842378480415, in epoch 46\n",
            "loss =  tensor(3.3397)\n",
            "train_loss =  tensor(3.3397) val_loss tensor(0.3160)\n",
            "auc =  0.9976403964134025\n",
            "train_auc =  0.9978779840848806 val_auc =  0.9957264957264957\n"
          ]
        },
        {
          "output_type": "stream",
          "name": "stderr",
          "text": [
            " 65%|██████▌   | 65/100 [1:33:40<50:04, 85.85s/it]"
          ]
        },
        {
          "output_type": "stream",
          "name": "stdout",
          "text": [
            "best validation acc = 0.999056158565361, in epoch 64\n",
            "loss =  tensor(1.0504)\n",
            "train_loss =  tensor(1.0504) val_loss tensor(0.0005)\n",
            "auc =  0.999056158565361\n",
            "train_auc =  0.9989389920424403 val_auc =  1.0\n"
          ]
        },
        {
          "output_type": "stream",
          "name": "stderr",
          "text": [
            " 70%|███████   | 70/100 [1:40:49<42:51, 85.71s/it]"
          ]
        },
        {
          "output_type": "stream",
          "name": "stdout",
          "text": [
            "best validation acc = 0.999056158565361, in epoch 64\n",
            "loss =  tensor(9.5292)\n",
            "train_loss =  tensor(9.5292) val_loss tensor(0.0090)\n",
            "auc =  0.9966965549787635\n",
            "train_auc =  0.9962864721485412 val_auc =  1.0\n"
          ]
        },
        {
          "output_type": "stream",
          "name": "stderr",
          "text": [
            " 75%|███████▌  | 75/100 [1:48:01<35:56, 86.28s/it]"
          ]
        },
        {
          "output_type": "stream",
          "name": "stdout",
          "text": [
            "best validation acc = 0.999056158565361, in epoch 64\n",
            "loss =  tensor(25.2502)\n",
            "train_loss =  tensor(25.2502) val_loss tensor(0.)\n",
            "auc =  0.9948088721094857\n",
            "train_auc =  0.9941644562334218 val_auc =  1.0\n"
          ]
        },
        {
          "output_type": "stream",
          "name": "stderr",
          "text": [
            " 80%|████████  | 80/100 [1:55:11<28:41, 86.09s/it]"
          ]
        },
        {
          "output_type": "stream",
          "name": "stdout",
          "text": [
            "best validation acc = 0.9995280792826805, in epoch 75\n",
            "loss =  tensor(5.2880)\n",
            "train_loss =  tensor(5.2880) val_loss tensor(0.2909)\n",
            "auc =  0.9957527135441245\n",
            "train_auc =  0.9957559681697613 val_auc =  0.9957264957264957\n"
          ]
        },
        {
          "output_type": "stream",
          "name": "stderr",
          "text": [
            " 85%|████████▌ | 85/100 [2:02:18<21:25, 85.68s/it]"
          ]
        },
        {
          "output_type": "stream",
          "name": "stdout",
          "text": [
            "best validation acc = 0.9995280792826805, in epoch 75\n",
            "loss =  tensor(3.4252)\n",
            "train_loss =  tensor(3.4252) val_loss tensor(0.0662)\n",
            "auc =  0.9966965549787635\n",
            "train_auc =  0.996816976127321 val_auc =  0.9957264957264957\n"
          ]
        },
        {
          "output_type": "stream",
          "name": "stderr",
          "text": [
            " 90%|█████████ | 90/100 [2:09:27<14:18, 85.80s/it]"
          ]
        },
        {
          "output_type": "stream",
          "name": "stdout",
          "text": [
            "best validation acc = 0.9995280792826805, in epoch 75\n",
            "loss =  tensor(2.5154)\n",
            "train_loss =  tensor(2.5154) val_loss tensor(0.)\n",
            "auc =  0.997168475696083\n",
            "train_auc =  0.996816976127321 val_auc =  1.0\n"
          ]
        },
        {
          "output_type": "stream",
          "name": "stderr",
          "text": [
            " 95%|█████████▌| 95/100 [2:16:37<07:10, 86.07s/it]"
          ]
        },
        {
          "output_type": "stream",
          "name": "stdout",
          "text": [
            "best validation acc = 0.9995280792826805, in epoch 75\n",
            "loss =  tensor(15.8642)\n",
            "train_loss =  tensor(15.8642) val_loss tensor(4.4703e-08)\n",
            "auc =  0.9948088721094857\n",
            "train_auc =  0.9941644562334218 val_auc =  1.0\n"
          ]
        },
        {
          "output_type": "stream",
          "name": "stderr",
          "text": [
            "100%|██████████| 100/100 [2:23:47<00:00, 86.27s/it]"
          ]
        },
        {
          "output_type": "stream",
          "name": "stdout",
          "text": [
            "best validation acc = 0.9995280792826805, in epoch 75\n",
            "loss =  tensor(5.0125)\n",
            "train_loss =  tensor(5.0125) val_loss tensor(0.0002)\n",
            "auc =  0.9966965549787635\n",
            "train_auc =  0.9962864721485412 val_auc =  1.0\n",
            "best validation acc = 0.9995280792826805, in epoch 75\n"
          ]
        },
        {
          "output_type": "stream",
          "name": "stderr",
          "text": [
            "\n"
          ]
        }
      ]
    },
    {
      "cell_type": "code",
      "source": [
        "#JY-loss graph\n",
        "plt.figure(figsize=(10,5))\n",
        "plt.title(\"Training and Validation Loss\")\n",
        "plt.plot(val_losses,label=\"val\")\n",
        "plt.plot(train_losses,label=\"train\")\n",
        "plt.xlabel(\"EPOCHS\")\n",
        "plt.ylabel(\"Loss\")\n",
        "plt.legend()\n",
        "plt.show()"
      ],
      "metadata": {
        "colab": {
          "base_uri": "https://localhost:8080/",
          "height": 350
        },
        "id": "03wZu85sk9J4",
        "outputId": "8188241f-d69c-43ec-ca7e-b339775e790f"
      },
      "execution_count": 226,
      "outputs": [
        {
          "output_type": "display_data",
          "data": {
            "text/plain": [
              "<Figure size 720x360 with 1 Axes>"
            ],
            "image/png": "[encoded data removed]"
          },
          "metadata": {
            "needs_background": "light"
          }
        }
      ]
    },
    {
      "cell_type": "code",
      "source": [
        "#JY-Accuracy graph\n",
        "plt.figure(figsize=(10,5))\n",
        "plt.title(\"Training and Validation Accuracy\")\n",
        "plt.plot(val_accuracy,label=\"val\")\n",
        "plt.plot(train_accuracy,label=\"train\")\n",
        "plt.xlabel(\"EPOCHS\")\n",
        "plt.ylabel(\"Accuracy\")\n",
        "plt.legend()\n",
        "plt.show()"
      ],
      "metadata": {
        "colab": {
          "base_uri": "https://localhost:8080/",
          "height": 350
        },
        "id": "wfo4Idaak__X",
        "outputId": "0cd9b13b-cc96-44d5-a611-27bd55e86b10"
      },
      "execution_count": 227,
      "outputs": [
        {
          "output_type": "display_data",
          "data": {
            "text/plain": [
              "<Figure size 720x360 with 1 Axes>"
            ],
            "image/png": "[encoded data removed]"
          },
          "metadata": {
            "needs_background": "light"
          }
        }
      ]
    }
  ]
}